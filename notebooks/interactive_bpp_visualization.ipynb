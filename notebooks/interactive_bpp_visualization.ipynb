{
 "cells": [
  {
   "cell_type": "code",
   "execution_count": 1,
   "metadata": {
    "collapsed": true,
    "pycharm": {
     "is_executing": false
    }
   },
   "outputs": [],
   "source": [
    "import tensorflow as tf\n",
    "import numpy as np\n",
    "import cv2\n",
    "from pathlib import Path\n",
    "from ipywidgets import widgets, interact_manual\n",
    "import matplotlib.pyplot as plt\n",
    "\n",
    "from training_schemes import load_compressor_with_range\n",
    "from datasets.cifar10 import read_images, pipeline, normalize\n",
    "from visualization.tensorboard import draw_text_line\n",
    "\n",
    "tf.config.experimental.set_memory_growth(tf.config.experimental.list_physical_devices('GPU')[0],\n",
    "                                         enable=True)"
   ]
  },
  {
   "cell_type": "code",
   "execution_count": 2,
   "metadata": {
    "pycharm": {
     "is_executing": false,
     "name": "#%%\n"
    }
   },
   "outputs": [
    {
     "name": "stdout",
     "output_type": "stream",
     "text": [
      "WARNING:tensorflow:From /home/ilya/thesis-compression/venv/lib/python3.6/site-packages/tensorflow_core/python/ops/resource_variable_ops.py:1630: calling BaseResourceVariable.__init__ (from tensorflow.python.ops.resource_variable_ops) with constraint is deprecated and will be removed in a future version.\n",
      "Instructions for updating:\n",
      "If using Keras pass *_constraint arguments to layers.\n",
      "Loading weights and alpha-bpp fit from epoch 150\n",
      "WARNING:tensorflow:From /home/ilya/thesis-compression/models/bpp_range.py:33: The name tf.placeholder is deprecated. Please use tf.compat.v1.placeholder instead.\n",
      "\n",
      "WARNING:tensorflow:From /home/ilya/thesis-compression/models/bpp_range.py:34: The name tf.assign is deprecated. Please use tf.compat.v1.assign instead.\n",
      "\n",
      "WARNING:tensorflow:From /home/ilya/thesis-compression/models/bpp_range.py:48: The name tf.keras.backend.get_session is deprecated. Please use tf.compat.v1.keras.backend.get_session instead.\n",
      "\n"
     ]
    }
   ],
   "source": [
    "compressor, alpha_bpp_fit, parameters = load_compressor_with_range(Path.home() / 'thesis-compression-data/experiments/compressor/19.03-best/act7_norm')\n",
    "bpp_range = np.linspace(0.8, 1.5, 10).astype(np.float32)\n",
    "val_dataset, _ = read_images(Path.home() / 'thesis-compression-data/datasets/cifar-10/test')\n",
    "batch_size = 6\n",
    "\n",
    "alpha_range = alpha_bpp_fit.inverse_numpy(bpp_range)\n",
    "val_dataset = pipeline(val_dataset, batch_size=batch_size, flip=False, crop=False, \n",
    "                       classifier_normalize=False,\n",
    "                       shuffle_buffer_size=10000,\n",
    "                       repeat=True)"
   ]
  },
  {
   "cell_type": "code",
   "execution_count": 3,
   "metadata": {
    "pycharm": {
     "is_executing": false,
     "name": "#%%\n"
    }
   },
   "outputs": [
    {
     "name": "stdout",
     "output_type": "stream",
     "text": [
      "WARNING:tensorflow:From /home/ilya/thesis-compression/venv/lib/python3.6/site-packages/tensorflow_core/python/ops/init_ops.py:97: calling GlorotUniform.__init__ (from tensorflow.python.ops.init_ops) with dtype is deprecated and will be removed in a future version.\n",
      "Instructions for updating:\n",
      "Call initializer instance with the dtype argument instead of passing it to the constructor\n",
      "WARNING:tensorflow:From /home/ilya/thesis-compression/venv/lib/python3.6/site-packages/tensorflow_core/python/ops/init_ops.py:97: calling Zeros.__init__ (from tensorflow.python.ops.init_ops) with dtype is deprecated and will be removed in a future version.\n",
      "Instructions for updating:\n",
      "Call initializer instance with the dtype argument instead of passing it to the constructor\n",
      "WARNING:tensorflow:From /home/ilya/thesis-compression/venv/lib/python3.6/site-packages/tensorflow_core/python/ops/init_ops.py:97: calling Ones.__init__ (from tensorflow.python.ops.init_ops) with dtype is deprecated and will be removed in a future version.\n",
      "Instructions for updating:\n",
      "Call initializer instance with the dtype argument instead of passing it to the constructor\n",
      "WARNING:tensorflow:No training configuration found in save file: the model was *not* compiled. Compile it manually.\n"
     ]
    }
   ],
   "source": [
    "original_model_path = Path.home()\n",
    "original_model_path = original_model_path / 'thesis-compression-data/experiments/cifar_10_normal_training/'\n",
    "original_model_path = original_model_path / 'sophisticated-poetic-warthog-of-variation'\n",
    "original_model = tf.keras.models.load_model(str(original_model_path / 'model.hdf5'))\n",
    "original_model.load_weights(str(original_model_path / 'final_weights.hdf5'))\n",
    "\n",
    "preprocess_for_model = lambda X: normalize(X[..., ::-1])"
   ]
  },
  {
   "cell_type": "code",
   "execution_count": 4,
   "metadata": {
    "pycharm": {
     "is_executing": false,
     "name": "#%%\n"
    }
   },
   "outputs": [],
   "source": [
    "sess = tf.keras.backend.get_session()\n",
    "item = tf.compat.v1.data.make_one_shot_iterator(val_dataset).get_next()\n",
    "\n",
    "to_compress = {\n",
    "    'X': tf.repeat(item[0], len(alpha_range), axis=0),\n",
    "    'alpha': tf.tile(alpha_range, [batch_size]),\n",
    "    'lambda': tf.repeat(parameters['lmbda'], len(alpha_range) * batch_size)\n",
    "}\n",
    "\n",
    "reconstruction = compressor.forward_with_range_coding(to_compress)\n",
    "original_model_pred = original_model(preprocess_for_model(reconstruction['X_reconstructed']))\n",
    "true_label_pred = tf.reduce_sum(original_model_pred * tf.repeat(item[1], len(alpha_range), axis=0), axis=1)"
   ]
  },
  {
   "cell_type": "code",
   "execution_count": 6,
   "metadata": {
    "pycharm": {
     "is_executing": false,
     "name": "#%%\n"
    }
   },
   "outputs": [
    {
     "data": {
      "application/vnd.jupyter.widget-view+json": {
       "model_id": "07307c6f9a0344dda4214e65a1923d0e",
       "version_major": 2,
       "version_minor": 0
      },
      "text/plain": [
       "interactive(children=(IntSlider(value=4, description='scale', max=10, min=4), Button(description='Run Interact…"
      ]
     },
     "metadata": {},
     "output_type": "display_data"
    }
   ],
   "source": [
    "@interact_manual(scale=widgets.IntSlider(min=4, max=10))\n",
    "def show_images(scale):\n",
    "    reconstruction_result, item_result, true_label_result = sess.run([reconstruction, item, true_label_pred])\n",
    "    text_batches = np.reshape([f'{reconstruction_result[\"range_coded_bpp\"][i]:0.2f}\\n'\n",
    "                               f'{true_label_result[i]:0.2f}' \n",
    "                               for i in range(len(reconstruction_result['range_coded_bpp']))],\n",
    "                              (batch_size, -1))\n",
    "    img_height, img_width = reconstruction_result['X_reconstructed'].shape[1:3]\n",
    "    X_rec = np.reshape(reconstruction_result['X_reconstructed'], \n",
    "                       (batch_size, len(alpha_range), *reconstruction_result['X_reconstructed'].shape[1:]))        \n",
    "    X_rec = np.transpose(X_rec, (0, 2, 1, 3, 4))\n",
    "    X_rec = np.reshape(X_rec, (batch_size, img_height, len(alpha_range) * img_width, 3))\n",
    "    together = np.concatenate([item_result[0], X_rec], axis=2)\n",
    "    together_with_text = []\n",
    "    for i, text_batch in enumerate(text_batches):\n",
    "        together_with_text.append(cv2.resize(together[i], dsize=None, fx=scale, fy=scale, \n",
    "                                             interpolation=cv2.INTER_NEAREST))\n",
    "        text_batch = ['Bpp\\nPred'] + list(text_batch)\n",
    "        text_line = draw_text_line(text_batch, background_color=255, font_color=0, font_size=48,\n",
    "                                   cell_dimension=(100, scale * 32))\n",
    "        together_with_text.append(text_line)\n",
    "        \n",
    "    together_with_text = np.concatenate(together_with_text, axis=0)\n",
    "    dpi = 20\n",
    "    plt.figure(figsize=(together_with_text.shape[1] / dpi, together_with_text.shape[0] / dpi), dpi=dpi)\n",
    "    plt.xticks([])\n",
    "    plt.yticks([])\n",
    "    plt.imshow(together_with_text)"
   ]
  }
 ],
 "metadata": {
  "kernelspec": {
   "display_name": "Python 3",
   "language": "python",
   "name": "python3"
  },
  "language_info": {
   "codemirror_mode": {
    "name": "ipython",
    "version": 3
   },
   "file_extension": ".py",
   "mimetype": "text/x-python",
   "name": "python",
   "nbconvert_exporter": "python",
   "pygments_lexer": "ipython3",
   "version": "3.6.8"
  },
  "pycharm": {
   "stem_cell": {
    "cell_type": "raw",
    "metadata": {
     "collapsed": false
    },
    "source": []
   }
  }
 },
 "nbformat": 4,
 "nbformat_minor": 1
}
